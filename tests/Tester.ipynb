{
 "cells": [
  {
   "cell_type": "code",
   "execution_count": 21,
   "metadata": {
    "collapsed": false
   },
   "outputs": [
    {
     "data": {
      "text/plain": [
       "Found files:\t\n",
       "{\n",
       "  1 : /home/vita/Documents/Uni/ATML/Project/ML-FS2017-group-project/datasets/Set14/image_SRF_4/img_001_SRF_4_HR.png\n",
       "  2 : /home/vita/Documents/Uni/ATML/Project/ML-FS2017-group-project/datasets/Set14/image_SRF_4/img_001_SRF_4_LR.png\n",
       "  3 : /home/vita/Documents/Uni/ATML/Project/ML-FS2017-group-project/datasets/Set14/image_SRF_4/img_002_SRF_4_HR.png\n",
       "  4 : /home/vita/Documents/Uni/ATML/Project/ML-FS2017-group-project/datasets/Set14/image_SRF_4/img_002_SRF_4_LR.png\n",
       "  5 : /home/vita/Documents/Uni/ATML/Project/ML-FS2017-group-project/datasets/Set14/image_SRF_4/img_003_SRF_4_HR.png\n",
       "  6 : /home/vita/Documents/Uni/ATML/Project/ML-FS2017-group-project/datasets/Set14/image_SRF_4/img_003_SRF_4_LR.png\n",
       "  7 : /home/vita/Documents/Uni/ATML/Project/ML-FS2017-group-project/datasets/Set14/image_SRF_4/img_004_SRF_4_HR.png\n",
       "  8 : /home/vita/Documents/Uni/ATML/Project/ML-FS2017-group-project/datasets/Set14/image_SRF_4/img_004_SRF_4_LR.png\n",
       "  9 : /home/vita/Documents/Uni/ATML/Project/ML-FS2017-group-project/datasets/Set14/image_SRF_4/img_005_SRF_4_HR.png\n",
       "  10 : /home/vita/Documents/Uni/ATML/Project/ML-FS2017-group-project/datasets/Set14/image_SRF_4/img_005_SRF_4_LR.png\n",
       "  11 : /home/vita/Documents/Uni/ATML/Project/ML-FS2017-group-project/datasets/Set14/image_SRF_4/img_006_SRF_4_HR.png\n",
       "  12 : /home/vita/Documents/Uni/ATML/Project/ML-FS2017-group-project/datasets/Set14/image_SRF_4/img_006_SRF_4_LR.png\n",
       "  13 : /home/vita/Documents/Uni/ATML/Project/ML-FS2017-group-project/datasets/Set14/image_SRF_4/img_007_SRF_4_HR.png\n",
       "  14 : /home/vita/Documents/Uni/ATML/Project/ML-FS2017-group-project/datasets/Set14/image_SRF_4/img_007_SRF_4_LR.png\n",
       "  15 : /home/vita/Documents/Uni/ATML/Project/ML-FS2017-group-project/datasets/Set14/image_SRF_4/img_008_SRF_4_HR.png\n",
       "  16 : /home/vita/Documents/Uni/ATML/Project/ML-FS2017-group-project/datasets/Set14/image_SRF_4/img_008_SRF_4_LR.png\n",
       "  17 : /home/vita/Documents/Uni/ATML/Project/ML-FS2017-group-project/datasets/Set14/image_SRF_4/img_009_SRF_4_HR.png\n",
       "  18 : /home/vita/Documents/Uni/ATML/Project/ML-FS2017-group-project/datasets/Set14/image_SRF_4/img_009_SRF_4_LR.png\n",
       "  19 : /home/vita/Documents/Uni/ATML/Project/ML-FS2017-group-project/datasets/Set14/image_SRF_4/img_010_SRF_4_HR.png\n",
       "  20 : /home/vita/Documents/Uni/ATML/Project/ML-FS2017-group-project/datasets/Set14/image_SRF_4/img_010_SRF_4_LR.png\n",
       "  21 : /home/vita/Documents/Uni/ATML/Project/ML-FS2017-group-project/datasets/Set14/image_SRF_4/img_011_SRF_4_HR.png\n",
       "  22 : /home/vita/Documents/Uni/ATML/Project/ML-FS2017-group-project/datasets/Set14/image_SRF_4/img_011_SRF_4_LR.png\n",
       "  23 : /home/vita/Documents/Uni/ATML/Project/ML-FS2017-group-project/datasets/Set14/image_SRF_4/img_012_SRF_4_HR.png\n",
       "  24 : /home/vita/Documents/Uni/ATML/Project/ML-FS2017-group-project/datasets/Set14/image_SRF_4/img_012_SRF_4_LR.png\n",
       "  25 : /home/vita/Documents/Uni/ATML/Project/ML-FS2017-group-project/datasets/Set14/image_SRF_4/img_013_SRF_4_HR.png\n",
       "  26 : /home/vita/Documents/Uni/ATML/Project/ML-FS2017-group-project/datasets/Set14/image_SRF_4/img_013_SRF_4_LR.png\n",
       "  27 : /home/vita/Documents/Uni/ATML/Project/ML-FS2017-group-project/datasets/Set14/image_SRF_4/img_014_SRF_4_HR.png\n",
       "  28 : /home/vita/Documents/Uni/ATML/Project/ML-FS2017-group-project/datasets/Set14/image_SRF_4/img_014_SRF_4_LR.png\n",
       "}\n"
      ]
     },
     "execution_count": 21,
     "metadata": {},
     "output_type": "execute_result"
    },
    {
     "data": {
      "text/plain": [
       "Loaded images:\t\n",
       "{\n",
       "  1 : DoubleTensor - size: 3x480x500\n",
       "  2 : DoubleTensor - size: 3x120x125\n",
       "  3 : DoubleTensor - size: 3x576x720\n",
       "  4 : DoubleTensor - size: 3x144x180\n",
       "  5 : DoubleTensor - size: 1x512x512\n",
       "  6 : DoubleTensor - size: 1x128x128\n",
       "  7 : DoubleTensor - size: 3x288x352\n",
       "  8 : DoubleTensor - size: 3x72x88\n",
       "  9 : DoubleTensor - size: 3x360x248\n",
       "  10 : DoubleTensor - size: 3x90x62\n",
       "  11 : DoubleTensor - size: 3x276x276\n",
       "  12 : DoubleTensor - size: 3x69x69\n",
       "  13 : DoubleTensor - size: 3x360x500\n",
       "  14 : DoubleTensor - size: 3x90x125\n",
       "  15 : DoubleTensor - size: 3x288x352\n",
       "  16 : DoubleTensor - size: 3x72x88\n",
       "  17 : DoubleTensor - size: 3x512x512\n",
       "  18 : DoubleTensor - size: 3x128x128\n",
       "  19 : DoubleTensor - size: 3x512x512\n",
       "  20 : DoubleTensor - size: 3x128x128\n",
       "  21 : DoubleTensor - size: 3x512x768\n",
       "  22 : DoubleTensor - size: 3x128x192\n",
       "  23 : DoubleTensor - size: 3x512x512\n",
       "  24 : DoubleTensor - size: 3x128x128\n",
       "  25 : DoubleTensor - size: 3x656x528\n",
       "  26 : DoubleTensor - size: 3x164x132\n",
       "  27 : DoubleTensor - size: 3x388x584\n",
       "  28 : DoubleTensor - size: 3x97x146\n",
       "}\n"
      ]
     },
     "execution_count": 21,
     "metadata": {},
     "output_type": "execute_result"
    },
    {
     "data": {
      "text/plain": [
       "   3\n",
       " 480\n",
       " 500\n",
       "[torch.LongStorage of size 3]\n",
       "\n"
      ]
     },
     "execution_count": 21,
     "metadata": {},
     "output_type": "execute_result"
    },
    {
     "data": {
      "text/plain": [
       "\n"
      ]
     },
     "execution_count": 21,
     "metadata": {},
     "output_type": "execute_result"
    }
   ],
   "source": [
    "dofile('recurrent.lua')"
   ]
  }
 ],
 "metadata": {
  "kernelspec": {
   "display_name": "iTorch",
   "language": "lua",
   "name": "itorch"
  },
  "language_info": {
   "name": "lua",
   "version": "5.1"
  }
 },
 "nbformat": 4,
 "nbformat_minor": 2
}
