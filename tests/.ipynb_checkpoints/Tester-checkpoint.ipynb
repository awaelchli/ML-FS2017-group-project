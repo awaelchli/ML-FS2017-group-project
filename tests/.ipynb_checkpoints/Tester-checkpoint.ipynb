{
 "cells": [
  {
   "cell_type": "code",
   "execution_count": 1,
   "metadata": {
    "collapsed": false
   },
   "outputs": [
    {
     "ename": "cannot open recurrent.lua: No such file or directory\nstack traceback:\n\t[C]: in function 'f'\n\t[string \"local f = function() return dofile('recurrent...\"]:1: in main chunk\n\t[C]: in function 'xpcall'\n\t/home/vita/torch/install/share/lua/5.1/itorch/main.lua:210: in function </home/vita/torch/install/share/lua/5.1/itorch/main.lua:174>\n\t/home/vita/torch/install/share/lua/5.1/lzmq/poller.lua:75: in function 'poll'\n\t/home/vita/torch/install/share/lua/5.1/lzmq/impl/loop.lua:307: in function 'poll'\n\t/home/vita/torch/install/share/lua/5.1/lzmq/impl/loop.lua:325: in function 'sleep_ex'\n\t/home/vita/torch/install/share/lua/5.1/lzmq/impl/loop.lua:370: in function 'start'\n\t/home/vita/torch/install/share/lua/5.1/itorch/main.lua:389: in main chunk\n\t[C]: in function 'require'\n\t(command line):1: in main chunk\n\t[C]: at 0x00406670",
     "evalue": "",
     "output_type": "error",
     "traceback": [
      "cannot open recurrent.lua: No such file or directory\nstack traceback:\n\t[C]: in function 'f'\n\t[string \"local f = function() return dofile('recurrent...\"]:1: in main chunk\n\t[C]: in function 'xpcall'\n\t/home/vita/torch/install/share/lua/5.1/itorch/main.lua:210: in function </home/vita/torch/install/share/lua/5.1/itorch/main.lua:174>\n\t/home/vita/torch/install/share/lua/5.1/lzmq/poller.lua:75: in function 'poll'\n\t/home/vita/torch/install/share/lua/5.1/lzmq/impl/loop.lua:307: in function 'poll'\n\t/home/vita/torch/install/share/lua/5.1/lzmq/impl/loop.lua:325: in function 'sleep_ex'\n\t/home/vita/torch/install/share/lua/5.1/lzmq/impl/loop.lua:370: in function 'start'\n\t/home/vita/torch/install/share/lua/5.1/itorch/main.lua:389: in main chunk\n\t[C]: in function 'require'\n\t(command line):1: in main chunk\n\t[C]: at 0x00406670"
     ]
    }
   ],
   "source": [
    "dofile('recurrent.lua')"
   ]
  }
 ],
 "metadata": {
  "kernelspec": {
   "display_name": "iTorch",
   "language": "lua",
   "name": "itorch"
  },
  "language_info": {
   "name": "lua",
   "version": "5.1"
  }
 },
 "nbformat": 4,
 "nbformat_minor": 2
}
